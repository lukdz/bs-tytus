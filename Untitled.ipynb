{
 "cells": [
  {
   "cell_type": "code",
   "execution_count": 2,
   "id": "cf2fc933-c3cd-4cf2-ab4f-d1f989c9a095",
   "metadata": {},
   "outputs": [],
   "source": [
    "# id is uniq on the page\n",
    "# soup.find_all('a')\n",
    "# soup.find_all(id='text-3')\n",
    "# soup.find_all(id='text-3')[0].get_text()\n",
    "# soup.select('body h3 a')\n"
   ]
  },
  {
   "cell_type": "code",
   "execution_count": 2,
   "id": "92700c09-6ace-4185-aff7-909b376daa19",
   "metadata": {},
   "outputs": [],
   "source": [
    "import requests\n",
    "from bs4 import BeautifulSoup\n",
    "\n",
    "domain = 'https://komiksy-dla-dzieci.prv.pl/'\n",
    "start_path = '/?komiks=Tytus_Romek_i_A-Tomek'\n",
    "\n",
    "page_url = domain + start_path\n",
    "page = requests.get(page_url)\n",
    "soup = BeautifulSoup(page.content, 'html.parser')\n"
   ]
  },
  {
   "cell_type": "code",
   "execution_count": 7,
   "id": "ac52dd08-53d2-4d62-a201-b5e961635084",
   "metadata": {},
   "outputs": [
    {
     "data": {
      "text/plain": [
       "['?komiks=Tytus_Romek_i_A-Tomek&epizod=Tytus_01',\n",
       " '?komiks=Tytus_Romek_i_A-Tomek&epizod=Tytus_02',\n",
       " '?komiks=Tytus_Romek_i_A-Tomek&epizod=Tytus_03',\n",
       " '?komiks=Tytus_Romek_i_A-Tomek&epizod=Tytus_04',\n",
       " '?komiks=Tytus_Romek_i_A-Tomek&epizod=Tytus_05',\n",
       " '?komiks=Tytus_Romek_i_A-Tomek&epizod=Tytus_06',\n",
       " '?komiks=Tytus_Romek_i_A-Tomek&epizod=Tytus_07',\n",
       " '?komiks=Tytus_Romek_i_A-Tomek&epizod=Tytus_08',\n",
       " '?komiks=Tytus_Romek_i_A-Tomek&epizod=Tytus_09',\n",
       " '?komiks=Tytus_Romek_i_A-Tomek&epizod=Tytus_10',\n",
       " '?komiks=Tytus_Romek_i_A-Tomek&epizod=Tytus_11',\n",
       " '?komiks=Tytus_Romek_i_A-Tomek&epizod=Tytus_12',\n",
       " '?komiks=Tytus_Romek_i_A-Tomek&epizod=Tytus_13',\n",
       " '?komiks=Tytus_Romek_i_A-Tomek&epizod=Tytus_14',\n",
       " '?komiks=Tytus_Romek_i_A-Tomek&epizod=Tytus_15',\n",
       " '?komiks=Tytus_Romek_i_A-Tomek&epizod=Tytus_16',\n",
       " '?komiks=Tytus_Romek_i_A-Tomek&epizod=Tytus_17',\n",
       " '?komiks=Tytus_Romek_i_A-Tomek&epizod=Tytus_18',\n",
       " '?komiks=Tytus_Romek_i_A-Tomek&epizod=Tytus_19',\n",
       " '?komiks=Tytus_Romek_i_A-Tomek&epizod=Tytus_20',\n",
       " '?komiks=Tytus_Romek_i_A-Tomek&epizod=Tytus_21',\n",
       " '?komiks=Tytus_Romek_i_A-Tomek&epizod=Tytus_22',\n",
       " '?komiks=Tytus_Romek_i_A-Tomek&epizod=Tytus_23',\n",
       " '?komiks=Tytus_Romek_i_A-Tomek&epizod=Tytus_24',\n",
       " '?komiks=Tytus_Romek_i_A-Tomek&epizod=Tytus_25',\n",
       " '?komiks=Tytus_Romek_i_A-Tomek&epizod=Tytus_26',\n",
       " '?komiks=Tytus_Romek_i_A-Tomek&epizod=Tytus_nowy',\n",
       " '?komiks=Tytus_Romek_i_A-Tomek&epizod=Tytus_R1967',\n",
       " '?komiks=Tytus_Romek_i_A-Tomek&epizod=Tytus_Tv']"
      ]
     },
     "execution_count": 7,
     "metadata": {},
     "output_type": "execute_result"
    }
   ],
   "source": [
    "episode_list = []\n",
    "for a in soup.find_all('a', href=True):\n",
    "    if 'epizod' in a['href']:\n",
    "        episode_list.append(a['href'])\n",
    "episode_list"
   ]
  },
  {
   "cell_type": "code",
   "execution_count": 70,
   "id": "a1f6e535-4fef-43b0-86ce-e4edf3cda76c",
   "metadata": {},
   "outputs": [
    {
     "name": "stdout",
     "output_type": "stream",
     "text": [
      "Tytus_01\n",
      "Tytus_02\n",
      "Tytus_03\n",
      "Tytus_04\n",
      "Tytus_05\n",
      "Tytus_06\n",
      "Tytus_07\n",
      "Tytus_08\n",
      "Tytus_09\n",
      "Tytus_10\n",
      "Tytus_11\n",
      "Tytus_12\n",
      "Tytus_13\n",
      "Tytus_14\n",
      "Tytus_15\n",
      "Tytus_16\n",
      "Tytus_17\n",
      "Tytus_18\n",
      "Tytus_19\n",
      "Tytus_20\n",
      "Tytus_21\n",
      "Tytus_22\n",
      "Tytus_23\n",
      "Tytus_24\n",
      "Tytus_25\n",
      "Tytus_26\n",
      "Tytus_nowy\n",
      "Tytus_R1967\n",
      "Tytus_Tv\n"
     ]
    }
   ],
   "source": [
    "from urllib.parse import parse_qs\n",
    "import os\n",
    "\n",
    "for episode in episode_list:\n",
    "    directory = parse_qs(episode)['epizod'][0]\n",
    "    print(directory)\n",
    "    if not os.path.exists(directory):\n",
    "        os.makedirs(directory)\n"
   ]
  },
  {
   "cell_type": "code",
   "execution_count": 71,
   "id": "3643d81e-2568-4bc0-b89b-515ca5b668f7",
   "metadata": {},
   "outputs": [
    {
     "name": "stdout",
     "output_type": "stream",
     "text": [
      "less_scrap.py  Tytus_05  Tytus_11  Tytus_17  Tytus_23\t  Tytus_Tv\n",
      "scrap.py       Tytus_06  Tytus_12  Tytus_18  Tytus_24\t  Untitled.ipynb\n",
      "Tytus_01       Tytus_07  Tytus_13  Tytus_19  Tytus_25\n",
      "Tytus_02       Tytus_08  Tytus_14  Tytus_20  Tytus_26\n",
      "Tytus_03       Tytus_09  Tytus_15  Tytus_21  Tytus_nowy\n",
      "Tytus_04       Tytus_10  Tytus_16  Tytus_22  Tytus_R1967\n"
     ]
    }
   ],
   "source": [
    "!ls"
   ]
  },
  {
   "cell_type": "code",
   "execution_count": 39,
   "id": "1f090e25-b529-4ba9-a169-062f6e3299c0",
   "metadata": {},
   "outputs": [
    {
     "name": "stdout",
     "output_type": "stream",
     "text": [
      "https://komiksy-dla-dzieci.prv.pl/?komiks=Tytus_Romek_i_A-Tomek&epizod=Tytus_01\n"
     ]
    }
   ],
   "source": [
    "page_url = domain + episode_list[0]\n",
    "print(page_url)\n",
    "page = requests.get(page_url)\n",
    "soup = BeautifulSoup(page.content, 'html.parser')"
   ]
  },
  {
   "cell_type": "code",
   "execution_count": 41,
   "id": "f906558c-79c8-49ba-9e76-5d19921eef11",
   "metadata": {},
   "outputs": [
    {
     "data": {
      "text/plain": [
       "['?komiks=Tytus_Romek_i_A-Tomek&epizod=Tytus_01&strona=1',\n",
       " '?komiks=Tytus_Romek_i_A-Tomek&epizod=Tytus_01&strona=2',\n",
       " '?komiks=Tytus_Romek_i_A-Tomek&epizod=Tytus_01&strona=3',\n",
       " '?komiks=Tytus_Romek_i_A-Tomek&epizod=Tytus_01&strona=4',\n",
       " '?komiks=Tytus_Romek_i_A-Tomek&epizod=Tytus_01&strona=5',\n",
       " '?komiks=Tytus_Romek_i_A-Tomek&epizod=Tytus_01&strona=6',\n",
       " '?komiks=Tytus_Romek_i_A-Tomek&epizod=Tytus_01&strona=7',\n",
       " '?komiks=Tytus_Romek_i_A-Tomek&epizod=Tytus_01&strona=8',\n",
       " '?komiks=Tytus_Romek_i_A-Tomek&epizod=Tytus_01&strona=9',\n",
       " '?komiks=Tytus_Romek_i_A-Tomek&epizod=Tytus_01&strona=10',\n",
       " '?komiks=Tytus_Romek_i_A-Tomek&epizod=Tytus_01&strona=11',\n",
       " '?komiks=Tytus_Romek_i_A-Tomek&epizod=Tytus_01&strona=12',\n",
       " '?komiks=Tytus_Romek_i_A-Tomek&epizod=Tytus_01&strona=13',\n",
       " '?komiks=Tytus_Romek_i_A-Tomek&epizod=Tytus_01&strona=14',\n",
       " '?komiks=Tytus_Romek_i_A-Tomek&epizod=Tytus_01&strona=15',\n",
       " '?komiks=Tytus_Romek_i_A-Tomek&epizod=Tytus_01&strona=16',\n",
       " '?komiks=Tytus_Romek_i_A-Tomek&epizod=Tytus_01&strona=17',\n",
       " '?komiks=Tytus_Romek_i_A-Tomek&epizod=Tytus_01&strona=18',\n",
       " '?komiks=Tytus_Romek_i_A-Tomek&epizod=Tytus_01&strona=19',\n",
       " '?komiks=Tytus_Romek_i_A-Tomek&epizod=Tytus_01&strona=20',\n",
       " '?komiks=Tytus_Romek_i_A-Tomek&epizod=Tytus_01&strona=21',\n",
       " '?komiks=Tytus_Romek_i_A-Tomek&epizod=Tytus_01&strona=22',\n",
       " '?komiks=Tytus_Romek_i_A-Tomek&epizod=Tytus_01&strona=23',\n",
       " '?komiks=Tytus_Romek_i_A-Tomek&epizod=Tytus_01&strona=24',\n",
       " '?komiks=Tytus_Romek_i_A-Tomek&epizod=Tytus_01&strona=25',\n",
       " '?komiks=Tytus_Romek_i_A-Tomek&epizod=Tytus_01&strona=26',\n",
       " '?komiks=Tytus_Romek_i_A-Tomek&epizod=Tytus_01&strona=27',\n",
       " '?komiks=Tytus_Romek_i_A-Tomek&epizod=Tytus_01&strona=28',\n",
       " '?komiks=Tytus_Romek_i_A-Tomek&epizod=Tytus_01&strona=29',\n",
       " '?komiks=Tytus_Romek_i_A-Tomek&epizod=Tytus_01&strona=30',\n",
       " '?komiks=Tytus_Romek_i_A-Tomek&epizod=Tytus_01&strona=31',\n",
       " '?komiks=Tytus_Romek_i_A-Tomek&epizod=Tytus_01&strona=32',\n",
       " '?komiks=Tytus_Romek_i_A-Tomek&epizod=Tytus_01&strona=33',\n",
       " '?komiks=Tytus_Romek_i_A-Tomek&epizod=Tytus_01&strona=34',\n",
       " '?komiks=Tytus_Romek_i_A-Tomek&epizod=Tytus_01&strona=35',\n",
       " '?komiks=Tytus_Romek_i_A-Tomek&epizod=Tytus_01&strona=36',\n",
       " '?komiks=Tytus_Romek_i_A-Tomek&epizod=Tytus_01&strona=37',\n",
       " '?komiks=Tytus_Romek_i_A-Tomek&epizod=Tytus_01&strona=38',\n",
       " '?komiks=Tytus_Romek_i_A-Tomek&epizod=Tytus_01&strona=39',\n",
       " '?komiks=Tytus_Romek_i_A-Tomek&epizod=Tytus_01&strona=40',\n",
       " '?komiks=Tytus_Romek_i_A-Tomek&epizod=Tytus_01&strona=41',\n",
       " '?komiks=Tytus_Romek_i_A-Tomek&epizod=Tytus_01&strona=42',\n",
       " '?komiks=Tytus_Romek_i_A-Tomek&epizod=Tytus_01&strona=43',\n",
       " '?komiks=Tytus_Romek_i_A-Tomek&epizod=Tytus_01&strona=44',\n",
       " '?komiks=Tytus_Romek_i_A-Tomek&epizod=Tytus_01&strona=45',\n",
       " '?komiks=Tytus_Romek_i_A-Tomek&epizod=Tytus_01&strona=46',\n",
       " '?komiks=Tytus_Romek_i_A-Tomek&epizod=Tytus_01&strona=47',\n",
       " '?komiks=Tytus_Romek_i_A-Tomek&epizod=Tytus_01&strona=48',\n",
       " '?komiks=Tytus_Romek_i_A-Tomek&epizod=Tytus_01&strona=49',\n",
       " '?komiks=Tytus_Romek_i_A-Tomek&epizod=Tytus_01&strona=50',\n",
       " '?komiks=Tytus_Romek_i_A-Tomek&epizod=Tytus_01&strona=51',\n",
       " '?komiks=Tytus_Romek_i_A-Tomek&epizod=Tytus_01&strona=52',\n",
       " '?komiks=Tytus_Romek_i_A-Tomek&epizod=Tytus_01&strona=53',\n",
       " '?komiks=Tytus_Romek_i_A-Tomek&epizod=Tytus_01&strona=54',\n",
       " '?komiks=Tytus_Romek_i_A-Tomek&epizod=Tytus_01&strona=55',\n",
       " '?komiks=Tytus_Romek_i_A-Tomek&epizod=Tytus_01&strona=56',\n",
       " '?komiks=Tytus_Romek_i_A-Tomek&epizod=Tytus_01&strona=57',\n",
       " '?komiks=Tytus_Romek_i_A-Tomek&epizod=Tytus_01&strona=58',\n",
       " '?komiks=Tytus_Romek_i_A-Tomek&epizod=Tytus_01&strona=59',\n",
       " '?komiks=Tytus_Romek_i_A-Tomek&epizod=Tytus_01&strona=60',\n",
       " '?komiks=Tytus_Romek_i_A-Tomek&epizod=Tytus_01&strona=61',\n",
       " '?komiks=Tytus_Romek_i_A-Tomek&epizod=Tytus_01&strona=62',\n",
       " '?komiks=Tytus_Romek_i_A-Tomek&epizod=Tytus_01&strona=63',\n",
       " '?komiks=Tytus_Romek_i_A-Tomek&epizod=Tytus_01&strona=64',\n",
       " '?komiks=Tytus_Romek_i_A-Tomek&epizod=Tytus_01&strona=65',\n",
       " '?komiks=Tytus_Romek_i_A-Tomek&epizod=Tytus_01&strona=66',\n",
       " '?komiks=Tytus_Romek_i_A-Tomek&epizod=Tytus_01&strona=67',\n",
       " '?komiks=Tytus_Romek_i_A-Tomek&epizod=Tytus_01&strona=68',\n",
       " '?komiks=Tytus_Romek_i_A-Tomek&epizod=Tytus_01&strona=2']"
      ]
     },
     "execution_count": 41,
     "metadata": {},
     "output_type": "execute_result"
    }
   ],
   "source": [
    "page_list = []\n",
    "for a in soup.find_all('a', href=True):\n",
    "    if 'strona' in a['href']:\n",
    "        page_list.append(a['href'])\n",
    "page_list"
   ]
  },
  {
   "cell_type": "code",
   "execution_count": 47,
   "id": "1c83f106-89ae-405a-91ed-e50be6bf79a2",
   "metadata": {},
   "outputs": [
    {
     "name": "stdout",
     "output_type": "stream",
     "text": [
      "https://komiksy-dla-dzieci.prv.pl/?komiks=Tytus_Romek_i_A-Tomek&epizod=Tytus_01&strona=1\n"
     ]
    }
   ],
   "source": [
    "page_url = domain + page_list[0]\n",
    "print(page_url)\n",
    "page = requests.get(page_url)\n",
    "soup = BeautifulSoup(page.content, 'html.parser')"
   ]
  },
  {
   "cell_type": "code",
   "execution_count": 54,
   "id": "15250f49-490a-4601-907e-367feb08f660",
   "metadata": {},
   "outputs": [
    {
     "name": "stdout",
     "output_type": "stream",
     "text": [
      "<img src=\"./data/Tytus_Romek_i_A-Tomek/Tytus_01/04.JPG\"/>\n"
     ]
    },
    {
     "data": {
      "text/plain": [
       "['./data/Tytus_Romek_i_A-Tomek/Tytus_01/04.JPG']"
      ]
     },
     "execution_count": 54,
     "metadata": {},
     "output_type": "execute_result"
    }
   ],
   "source": [
    "picture_list = []\n",
    "for a in soup.find_all('img'):\n",
    "    picture_list.append(a['src'])\n",
    "picture_list"
   ]
  },
  {
   "cell_type": "code",
   "execution_count": 67,
   "id": "fe1cb848-2714-4e09-86db-a1977152a2e5",
   "metadata": {},
   "outputs": [],
   "source": [
    "page_url = domain + picture_list[0]\n",
    "page = requests.get(page_url)"
   ]
  },
  {
   "cell_type": "code",
   "execution_count": 73,
   "id": "da5aeb98-d9de-4f92-86cc-a86df099c88d",
   "metadata": {},
   "outputs": [
    {
     "ename": "FileNotFoundError",
     "evalue": "[Errno 2] No such file or directory: 'Tytus_01/01.JPG'",
     "output_type": "error",
     "traceback": [
      "\u001b[0;31m---------------------------------------------------------------------------\u001b[0m",
      "\u001b[0;31mFileNotFoundError\u001b[0m                         Traceback (most recent call last)",
      "Cell \u001b[0;32mIn[73], line 3\u001b[0m\n\u001b[1;32m      1\u001b[0m \u001b[38;5;28;01mimport\u001b[39;00m \u001b[38;5;21;01mio\u001b[39;00m\n\u001b[1;32m      2\u001b[0m \u001b[38;5;66;03m#zapisanie pliku\u001b[39;00m\n\u001b[0;32m----> 3\u001b[0m \u001b[38;5;28;01mwith\u001b[39;00m \u001b[43mio\u001b[49m\u001b[38;5;241;43m.\u001b[39;49m\u001b[43mopen\u001b[49m\u001b[43m(\u001b[49m\u001b[38;5;124;43m'\u001b[39;49m\u001b[38;5;124;43mTytus_01/01.JPG\u001b[39;49m\u001b[38;5;124;43m'\u001b[39;49m\u001b[43m,\u001b[49m\u001b[43m \u001b[49m\u001b[38;5;124;43m\"\u001b[39;49m\u001b[38;5;124;43mwb\u001b[39;49m\u001b[38;5;124;43m\"\u001b[39;49m\u001b[43m)\u001b[49m \u001b[38;5;28;01mas\u001b[39;00m f:\n\u001b[1;32m      4\u001b[0m     f\u001b[38;5;241m.\u001b[39mwrite(page\u001b[38;5;241m.\u001b[39mcontent)\n",
      "\u001b[0;31mFileNotFoundError\u001b[0m: [Errno 2] No such file or directory: 'Tytus_01/01.JPG'"
     ]
    }
   ],
   "source": [
    "import io\n",
    "#zapisanie pliku\n",
    "with io.open('Tytus_01/01.JPG', \"wb\") as f:\n",
    "    f.write(page.content)"
   ]
  },
  {
   "cell_type": "code",
   "execution_count": 74,
   "id": "d5b93cfd-4b07-44ea-ba9c-ddfaf6741ad3",
   "metadata": {},
   "outputs": [],
   "source": [
    "# r = requests.get(domain + picture_list[0])\n",
    "# if r.status_code == 200:\n",
    "#     img = r.content\n",
    "#     with open('Tytus_01/01.JPG', 'wb') as f:\n",
    "#         f.write(img)\n",
    "\n"
   ]
  },
  {
   "cell_type": "code",
   "execution_count": 79,
   "id": "007a0884-0f79-4f36-b6d0-33447550a014",
   "metadata": {},
   "outputs": [
    {
     "name": "stderr",
     "output_type": "stream",
     "text": [
      "INFO:Number of episodes 29\n",
      "ERROR:name 'get_soup' is not defined\n"
     ]
    },
    {
     "name": "stdout",
     "output_type": "stream",
     "text": [
      "Downloading comic page  https://google.com\n"
     ]
    },
    {
     "ename": "NameError",
     "evalue": "name 'picture_path' is not defined",
     "output_type": "error",
     "traceback": [
      "\u001b[0;31m---------------------------------------------------------------------------\u001b[0m",
      "\u001b[0;31mNameError\u001b[0m                                 Traceback (most recent call last)",
      "Cell \u001b[0;32mIn[79], line 11\u001b[0m\n\u001b[1;32m     10\u001b[0m \u001b[38;5;28mprint\u001b[39m(\u001b[38;5;124m'\u001b[39m\u001b[38;5;124mDownloading comic page \u001b[39m\u001b[38;5;124m'\u001b[39m, page_url)\n\u001b[0;32m---> 11\u001b[0m soup \u001b[38;5;241m=\u001b[39m \u001b[43mget_soup\u001b[49m(page_url)\n\u001b[1;32m     13\u001b[0m picture_path \u001b[38;5;241m=\u001b[39m soup\u001b[38;5;241m.\u001b[39mfind(\u001b[38;5;124m'\u001b[39m\u001b[38;5;124mimg\u001b[39m\u001b[38;5;124m'\u001b[39m)[\u001b[38;5;124m'\u001b[39m\u001b[38;5;124msrc\u001b[39m\u001b[38;5;124m'\u001b[39m]\n",
      "\u001b[0;31mNameError\u001b[0m: name 'get_soup' is not defined",
      "\nDuring handling of the above exception, another exception occurred:\n",
      "\u001b[0;31mNameError\u001b[0m                                 Traceback (most recent call last)",
      "Cell \u001b[0;32mIn[79], line 22\u001b[0m\n\u001b[1;32m     20\u001b[0m \u001b[38;5;28;01mexcept\u001b[39;00m \u001b[38;5;167;01mException\u001b[39;00m \u001b[38;5;28;01mas\u001b[39;00m err:\n\u001b[1;32m     21\u001b[0m     logging\u001b[38;5;241m.\u001b[39merror(err)\n\u001b[0;32m---> 22\u001b[0m     logging\u001b[38;5;241m.\u001b[39merror(\u001b[38;5;124m'\u001b[39m\u001b[38;5;132;01m%s\u001b[39;00m\u001b[38;5;124m \u001b[39m\u001b[38;5;132;01m%s\u001b[39;00m\u001b[38;5;124m'\u001b[39m, page_url, \u001b[43mpicture_path\u001b[49m)\n",
      "\u001b[0;31mNameError\u001b[0m: name 'picture_path' is not defined"
     ]
    }
   ],
   "source": [
    "import logging\n",
    "\n",
    "logging.basicConfig(format='%(levelname)s:%(message)s', level=logging.DEBUG)\n",
    "\n",
    "logging.info('Number of episodes %s', len(episode_list))\n",
    "\n",
    "\n",
    "try:\n",
    "    page_url = 'https://google.com'\n",
    "    print('Downloading comic page ', page_url)\n",
    "    soup = get_soup(page_url)\n",
    "\n",
    "    picture_path = soup.find('img')['src']\n",
    "\n",
    "    page = requests.get(domain + picture_path)\n",
    "    path = download_directory + directory + '/' + parse_qs(picture_path)['strona'][0]\n",
    "    print('Save path ', path)\n",
    "    with io.open(path, \"wb\") as f:\n",
    "        f.write(page.content)\n",
    "except Exception as err:\n",
    "    logging.error(err)\n",
    "    logging.error('%s %s', page_url, picture_path)\n"
   ]
  },
  {
   "cell_type": "code",
   "execution_count": null,
   "id": "32fdfd0b-c793-451f-aff9-6da118418e99",
   "metadata": {},
   "outputs": [],
   "source": [
    "dir() \n",
    "will give you the list of in-scope variables\n",
    "\n",
    "globals() \n",
    "will give you a dictionary of global variables\n",
    "\n",
    "locals() \n",
    "will give you a dictionary of local variables"
   ]
  }
 ],
 "metadata": {
  "kernelspec": {
   "display_name": "Python 3 (ipykernel)",
   "language": "python",
   "name": "python3"
  },
  "language_info": {
   "codemirror_mode": {
    "name": "ipython",
    "version": 3
   },
   "file_extension": ".py",
   "mimetype": "text/x-python",
   "name": "python",
   "nbconvert_exporter": "python",
   "pygments_lexer": "ipython3",
   "version": "3.10.12"
  }
 },
 "nbformat": 4,
 "nbformat_minor": 5
}
